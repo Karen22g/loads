{
 "cells": [
  {
   "cell_type": "markdown",
   "id": "977a10c6-30df-4944-9b57-e43884eb57b9",
   "metadata": {},
   "source": [
    "#### 0. Importando paquetes"
   ]
  },
  {
   "cell_type": "code",
   "execution_count": 1,
   "id": "248cba77-8f34-4a93-966b-45634a1b186e",
   "metadata": {
    "tags": []
   },
   "outputs": [],
   "source": [
    "import zipfile\n",
    "import os\n",
    "import pandas as pd\n",
    "from datetime import datetime, timedelta\n",
    "import mysql.connector\n",
    "\n",
    "import glob"
   ]
  },
  {
   "cell_type": "markdown",
   "id": "3cddb04b-86de-40ae-92b9-5b1ae4c61bbd",
   "metadata": {
    "tags": []
   },
   "source": [
    "#### 1. Cargamos los CSV que genera Dariela de las cargas en los loadboards\n",
    "\n",
    "Son 4 archivos que vienen de DAT, 123 Loadboard, DOFT y TruckerPath."
   ]
  },
  {
   "cell_type": "code",
   "execution_count": 46,
   "id": "2762adea-fb97-497a-b775-6a415fab4997",
   "metadata": {
    "tags": []
   },
   "outputs": [],
   "source": [
    "df=pd.read_parquet(\"loadboards_sample_day (2).parquet\")"
   ]
  },
  {
   "cell_type": "code",
   "execution_count": null,
   "id": "4937a167-630c-443b-9976-150aa4c592d6",
   "metadata": {
    "jupyter": {
     "source_hidden": true
    },
    "tags": []
   },
   "outputs": [],
   "source": [
    "with zipfile.ZipFile('drive-download-20231107T133047Z-001.zip', 'r') as zip_ref:\n",
    "    zip_ref.extractall()"
   ]
  },
  {
   "cell_type": "code",
   "execution_count": null,
   "id": "cd9b02d3-7d60-4dae-a7c8-b6613fe25ded",
   "metadata": {
    "jupyter": {
     "source_hidden": true
    },
    "tags": []
   },
   "outputs": [],
   "source": [
    "archivos_csv = glob.glob('*.csv')\n",
    "df = []"
   ]
  },
  {
   "cell_type": "markdown",
   "id": "c9a6104b-d0e3-4c25-af83-6056588ff8db",
   "metadata": {},
   "source": [
    "#### 2. Limpiando la base de datos\n",
    "En este paso, eliminamos las cargas duplicadas, modificamos el tipo de datos en algunas columnas y filtramos a cargas disponibles hoy."
   ]
  },
  {
   "cell_type": "code",
   "execution_count": 47,
   "id": "a58778c6-17b5-44c7-a326-186e307b62a1",
   "metadata": {
    "tags": []
   },
   "outputs": [],
   "source": [
    "#concatenando bases de datos\n",
    "#for archivo in archivos_csv:\n",
    " #   dfx = pd.read_csv(archivo)\n",
    "  #  df.append(dfx)\n",
    "#df = pd.concat(df, ignore_index=True)\n",
    "\n",
    "#cambiando tipo de variable de algunas columnas\n",
    "df['Removed'] = pd.to_datetime(df['Removed'])\n",
    "df['Posted'] = pd.to_datetime(df['Posted'])\n",
    "df['PickUp'] = pd.to_datetime(df['PickUp'])\n",
    "df['ID']=df['ID'].astype(str)\n",
    "\n",
    "#Dejando solo las cargas que siguen disponibles\n",
    "ayer = datetime.now() - timedelta(days=1)\n",
    "df = df.loc[df['Removed']>= ayer]\n",
    "\n",
    "#Eliminando los valores duplicados\n",
    "df=df.drop_duplicates(subset='ID', keep='first')\n",
    "\n",
    "#Dejando solo las cargas que aplican al tipo de camiones que estamos manejando\n",
    "trucksok=['Any','Flatbed','Reefer','Truck&Trailer','Van']\n",
    "df=df[df['Equip'].apply(lambda x: any(word in x for word in trucksok))]\n",
    "\n",
    "#Dejando solo cargas FTL\n",
    "df=df[df['Type']=='TL']"
   ]
  },
  {
   "cell_type": "code",
   "execution_count": 48,
   "id": "dfd4bd28-52bb-42bf-8795-4328cff1df20",
   "metadata": {
    "tags": []
   },
   "outputs": [
    {
     "data": {
      "text/plain": [
       "array(['DAT', '123LoadBoard', 'TruckerPath'], dtype=object)"
      ]
     },
     "execution_count": 48,
     "metadata": {},
     "output_type": "execute_result"
    }
   ],
   "source": [
    "df['Source'].unique()"
   ]
  },
  {
   "cell_type": "code",
   "execution_count": 41,
   "id": "95088c3c-596c-46b1-8bbe-3b572e6ae137",
   "metadata": {},
   "outputs": [],
   "source": [
    "columnsoutput=['CityOrigin', 'CountyOrigin', 'HubOrigin','PickUp', 'CityDestination',  'CountyDestination', \n",
    "               'HubDestination',#'DropOff', \n",
    "               'Distance','RatePerMile','Broker_Shipper',\n",
    "               'Broker_Shipper_Email', 'Broker_Shipper_Phone','Weight','Size',   \n",
    "               #'PickUp_Stops', \n",
    "               #'DropOff_Stops', \n",
    "               'Specifications', \n",
    "               #'Commodity',\n",
    "               'Equip','ID']\n",
    "\n",
    "df=df[columnsoutput]"
   ]
  },
  {
   "cell_type": "markdown",
   "id": "b53b58d0-cf64-4f04-8280-25e20d967822",
   "metadata": {},
   "source": [
    "#### 3. Exportamos la base de datos\n",
    "Finalmente, generamos el archivo .PARQUET que se utiliza en la aplicación de búsqueda de carga"
   ]
  },
  {
   "cell_type": "code",
   "execution_count": 42,
   "id": "fc2c411b-064b-4427-9270-b14a85b4a78a",
   "metadata": {},
   "outputs": [],
   "source": [
    "df.to_parquet(\"dfloads.parquet\")"
   ]
  },
  {
   "cell_type": "code",
   "execution_count": null,
   "id": "ba1b9880-4a97-4728-baa3-4285249ed71d",
   "metadata": {},
   "outputs": [],
   "source": [
    "#hay que conectar esto con el drive así como lo tiene Dariela\n",
    "#automatizar más la entrada de las nuevas cargas\n",
    "#Los sábados sería el único día que no descargaríamos info de los loadboards"
   ]
  },
  {
   "cell_type": "code",
   "execution_count": 210,
   "id": "b0348ab3-8bd6-439b-849a-ed826d062350",
   "metadata": {
    "jupyter": {
     "source_hidden": true
    },
    "tags": []
   },
   "outputs": [],
   "source": [
    "#tipos de camiones\n",
    "trucktypes=['', 'Any', 'Auto', 'AutoCarrier', 'BoatHauler', 'BoxTruck',\n",
    " 'CargoVan', 'Conestoga', 'Container', 'DoubleDrop', 'DumpTruck', 'Flatbed', 'HeavyHaulers', 'HopperBottom', 'Hotshot', 'Landoll', 'Lowboy', 'MovingVan',\n",
    " 'PickupTruck', 'PowerOnly', 'RGN', 'Reefer', 'RemovableGooseneck', 'Sprinter', 'StepDeck', 'Tanker','Truck&Trailer', 'Van']"
   ]
  },
  {
   "cell_type": "raw",
   "id": "e834e696-ce77-43c1-a6c1-8c9484d9a251",
   "metadata": {
    "jupyter": {
     "source_hidden": true
    },
    "tags": []
   },
   "source": [
    "Inputs\n",
    "1. Origin\n",
    "2. Destination\n",
    "3. Trip type\n",
    "4. Operative time\n",
    "5. Min RPM\n",
    "6. Avg RPM\n",
    "7. Min total_rate1\n",
    "8. AVG total_rate2\n",
    "\n",
    "Outputs\n",
    "1. Pickup date\n",
    "2. City origin\n",
    "3. City destination\n",
    "4. RPM\n",
    "5. Total income\n",
    "6. Lenght\n",
    "7. Weight\n",
    "7. Broker name\n",
    "8. Broker email\n",
    "9. Broker phone\n",
    "10. Broker Days to pay\n",
    "11. Broker rating\n",
    "12. Additional details/Specifications"
   ]
  }
 ],
 "metadata": {
  "kernelspec": {
   "display_name": "Python 3 (ipykernel)",
   "language": "python",
   "name": "python3"
  },
  "language_info": {
   "codemirror_mode": {
    "name": "ipython",
    "version": 3
   },
   "file_extension": ".py",
   "mimetype": "text/x-python",
   "name": "python",
   "nbconvert_exporter": "python",
   "pygments_lexer": "ipython3",
   "version": "3.10.9"
  }
 },
 "nbformat": 4,
 "nbformat_minor": 5
}
